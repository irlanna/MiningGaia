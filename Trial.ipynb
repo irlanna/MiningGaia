{
 "cells": [
  {
   "cell_type": "code",
   "execution_count": null,
   "metadata": {},
   "outputs": [],
   "source": [
    "import sklearn.cluster\n",
    "import numpy as np\n",
    "from astroquery.gaia import Gaia\n",
    "from astropy.io import fits\n",
    "from astropy.table import Table\n",
    "import matplotlib.pyplot as plt\n",
    "\n",
    "t = Table.read('tst.hdf', format='hdf5')\n"
   ]
  },
  {
   "cell_type": "code",
   "execution_count": 44,
   "metadata": {},
   "outputs": [],
   "source": [
    "X = np.array([t['ra'], t['dec'], t['parallax'], t['pmra'], t['pmdec'] ])\n",
    "Xnew = np.transpose(X)\n",
    "#Xcut = Xnew[:10000]"
   ]
  },
  {
   "cell_type": "code",
   "execution_count": null,
   "metadata": {},
   "outputs": [],
   "source": [
    "from sklearn.mixture import GaussianMixture\n",
    "gmm = GaussianMixture(n_components=7).fit(Xnew)\n",
    "labels = gmm.predict(Xnew)\n",
    "plt.scatter(Xnew[:, 0], Xnew[:, 1], c=labels, s=7, cmap='viridis')\n"
   ]
  },
  {
   "cell_type": "code",
   "execution_count": null,
   "metadata": {},
   "outputs": [],
   "source": [
    "labels_1 = gmm.fit_predict(Xnew)\n",
    "plt.scatter(Xnew[:, 0], Xnew[:, 1], c=labels_1, s=7, cmap='viridis')\n"
   ]
  },
  {
   "cell_type": "code",
   "execution_count": null,
   "metadata": {},
   "outputs": [],
   "source": [
    "labels_2 = gmm.get_params(deep=True)\n",
    "print (labels_2)"
   ]
  },
  {
   "cell_type": "code",
   "execution_count": 41,
   "metadata": {},
   "outputs": [
    {
     "name": "stdout",
     "output_type": "stream",
     "text": [
      "[[9.09864377e-07 3.09892348e-15 1.41719041e-02 ... 7.15522264e-02\n",
      "  1.09599278e-04 9.14165321e-01]\n",
      " [5.79579321e-17 1.88814386e-38 8.30886892e-04 ... 2.86289755e-01\n",
      "  2.70041994e-04 7.12609234e-01]\n",
      " [1.17025793e-01 8.01789902e-01 1.66860319e-02 ... 1.42121966e-02\n",
      "  1.05811410e-04 5.01802058e-02]\n",
      " ...\n",
      " [8.60042293e-06 2.46406418e-13 4.92357388e-02 ... 1.79956614e-01\n",
      "  2.72397423e-04 7.70526537e-01]\n",
      " [1.85956109e-01 5.51190587e-05 1.58616299e-02 ... 5.52425366e-02\n",
      "  3.63269967e-05 7.42848263e-01]\n",
      " [1.39210240e-11 8.66626358e-26 2.65409085e-02 ... 4.39278578e-01\n",
      "  7.67970018e-04 5.33412284e-01]]\n"
     ]
    }
   ],
   "source": [
    "labels_3 = gmm.predict_proba(Xcut)\n",
    "print (labels_3)"
   ]
  },
  {
   "cell_type": "code",
   "execution_count": null,
   "metadata": {},
   "outputs": [],
   "source": []
  },
  {
   "cell_type": "code",
   "execution_count": null,
   "metadata": {},
   "outputs": [],
   "source": []
  },
  {
   "cell_type": "code",
   "execution_count": null,
   "metadata": {},
   "outputs": [],
   "source": []
  },
  {
   "cell_type": "code",
   "execution_count": null,
   "metadata": {},
   "outputs": [],
   "source": []
  },
  {
   "cell_type": "code",
   "execution_count": null,
   "metadata": {},
   "outputs": [],
   "source": []
  }
 ],
 "metadata": {
  "kernelspec": {
   "display_name": "Python 3",
   "language": "python",
   "name": "python3"
  },
  "language_info": {
   "codemirror_mode": {
    "name": "ipython",
    "version": 3
   },
   "file_extension": ".py",
   "mimetype": "text/x-python",
   "name": "python",
   "nbconvert_exporter": "python",
   "pygments_lexer": "ipython3",
   "version": "3.7.3"
  }
 },
 "nbformat": 4,
 "nbformat_minor": 2
}
